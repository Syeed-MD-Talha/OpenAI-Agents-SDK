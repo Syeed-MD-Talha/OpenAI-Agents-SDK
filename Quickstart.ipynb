{
 "cells": [
  {
   "cell_type": "code",
   "execution_count": 1,
   "id": "41dfbe1a",
   "metadata": {},
   "outputs": [],
   "source": [
    "# The imports\n",
    "\n",
    "import os \n",
    "\n",
    "from dotenv import load_dotenv\n",
    "from agents import Agent, Runner, trace, OpenAIChatCompletionsModel\n",
    "from openai import AsyncOpenAI\n"
   ]
  },
  {
   "cell_type": "code",
   "execution_count": 2,
   "id": "2cd38213",
   "metadata": {},
   "outputs": [
    {
     "data": {
      "text/plain": [
       "True"
      ]
     },
     "execution_count": 2,
     "metadata": {},
     "output_type": "execute_result"
    }
   ],
   "source": [
    "# The usual starting point\n",
    "\n",
    "load_dotenv(override=True)"
   ]
  },
  {
   "cell_type": "markdown",
   "id": "43d0897b",
   "metadata": {},
   "source": [
    "### Using gemini api in  OpenAI Agent SDK"
   ]
  },
  {
   "cell_type": "code",
   "execution_count": 3,
   "id": "9b2b90c4",
   "metadata": {},
   "outputs": [],
   "source": [
    "BASE_URL = \"https://generativelanguage.googleapis.com/v1beta/openai/\"\n",
    "MODEL_NAME='gemini-2.0-flash'\n",
    "\n",
    "client = AsyncOpenAI(base_url=BASE_URL, api_key=os.getenv(\"GEMINI_API_KEY\"))\n",
    "\n",
    "gemini_model = OpenAIChatCompletionsModel(model=MODEL_NAME, openai_client=client)"
   ]
  },
  {
   "cell_type": "markdown",
   "id": "df10709d",
   "metadata": {},
   "source": [
    "### Creating a History teller agent"
   ]
  },
  {
   "cell_type": "code",
   "execution_count": 4,
   "id": "9e9bd603",
   "metadata": {},
   "outputs": [],
   "source": [
    "from agents import Agent\n",
    "\n",
    "math_tutor_agent=Agent(\n",
    "    name=\"Math Tutor\",\n",
    "    handoff_description=\"Specialist agent for historical questions\",\n",
    "    instructions=\"You provide assistance with historical queries. Explain important events and context clearly.\",\n",
    "    model=gemini_model\n",
    ")"
   ]
  },
  {
   "cell_type": "code",
   "execution_count": 5,
   "id": "18bfcc42",
   "metadata": {},
   "outputs": [
    {
     "data": {
      "text/markdown": [
       "The President of Bangladesh in 1988 was **Hussain Muhammad Ershad.**\n",
       "\n",
       "Here's a breakdown of his life and career:\n",
       "\n",
       "**Early Life and Military Career:**\n",
       "\n",
       "*   **Birth and Education:** Hussain Muhammad Ershad was born on February 1, 1930, in Rangpur, Bengal Presidency, British India (now Bangladesh). He received his early education in his hometown and later attended the University of Dhaka.\n",
       "*   **Military Service:** Ershad joined the Pakistan Army in 1952 and received training at the Pakistan Military Academy. He served in various command and staff positions within the army. After Bangladesh's independence in 1971, he joined the Bangladesh Army and rose through the ranks.\n",
       "\n",
       "**Rise to Power:**\n",
       "\n",
       "*   **Chief of Army Staff:** In 1978, Ershad was appointed as the Chief of Army Staff by then-President Ziaur Rahman. This was a pivotal moment, placing him in a position of significant power and influence.\n",
       "*   **Coup d'état:** On March 24, 1982, Ershad seized power in a bloodless coup, ousting President Abdus Sattar. He declared martial law and became the Chief Martial Law Administrator (CMLA). This marked the beginning of his period of autocratic rule.\n",
       "\n",
       "**Presidency (1983-1990):**\n",
       "\n",
       "*   **Becoming President:** Ershad assumed the presidency in December 1983, formalizing his position as the head of state.\n",
       "*   **Policies and Reforms:** During his rule, Ershad implemented a number of policies and reforms, including:\n",
       "    *   **Administrative Reorganization:** He introduced a system of local government called \"Upazila Parishad\" (sub-district councils) aimed at decentralizing administration and bringing governance closer to the people.\n",
       "    *   **Islam as State Religion:** In 1988, Ershad controversially amended the constitution to declare Islam as the state religion of Bangladesh. This move was criticized by secular groups.\n",
       "    *   **Economic Policies:** Ershad pursued a mixed economic policy, promoting both private sector growth and state-led development.\n",
       "*   **Controversies and Opposition:** Ershad's rule was marked by authoritarianism, suppression of dissent, and allegations of corruption. Political opposition grew, led by figures like Sheikh Hasina (Awami League) and Khaleda Zia (Bangladesh Nationalist Party). Student movements and popular uprisings demanding democracy gained momentum.\n",
       "\n",
       "**Downfall and Aftermath:**\n",
       "\n",
       "*   **Mass Uprising:** In December 1990, a massive popular uprising, fueled by widespread discontent and opposition mobilization, forced Ershad to resign from the presidency.\n",
       "*   **Arrest and Imprisonment:** Following his resignation, Ershad was arrested and faced numerous charges, including corruption and abuse of power. He was convicted in several cases and spent several years in prison.\n",
       "*   **Political Rehabilitation:** Despite his controversial past, Ershad managed to stage a political comeback after his release from prison. He formed his own political party, the Jatiya Party (Ershad), and became a Member of Parliament several times.\n",
       "*   **Death:** Hussain Muhammad Ershad died on July 14, 2019, in Dhaka, Bangladesh, at the age of 89.\n",
       "\n",
       "**Legacy:**\n",
       "\n",
       "Hussain Muhammad Ershad's legacy is complex and controversial. He is credited with some administrative reforms and infrastructure development. However, he is also remembered for his autocratic rule, suppression of dissent, and allegations of corruption. His decision to declare Islam as the state religion remains a contentious issue in Bangladesh."
      ],
      "text/plain": [
       "<IPython.core.display.Markdown object>"
      ]
     },
     "metadata": {},
     "output_type": "display_data"
    }
   ],
   "source": [
    "from IPython.display import Markdown, display\n",
    "\n",
    "result=await Runner.run(math_tutor_agent,\"Who was the president of Bangladesh in 1988. Tell me his life story\")\n",
    "display(Markdown(result.final_output))"
   ]
  },
  {
   "cell_type": "code",
   "execution_count": null,
   "id": "a8ada986",
   "metadata": {},
   "outputs": [],
   "source": []
  }
 ],
 "metadata": {
  "kernelspec": {
   "display_name": ".venv",
   "language": "python",
   "name": "python3"
  },
  "language_info": {
   "codemirror_mode": {
    "name": "ipython",
    "version": 3
   },
   "file_extension": ".py",
   "mimetype": "text/x-python",
   "name": "python",
   "nbconvert_exporter": "python",
   "pygments_lexer": "ipython3",
   "version": "3.12.2"
  }
 },
 "nbformat": 4,
 "nbformat_minor": 5
}
